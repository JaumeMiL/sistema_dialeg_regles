{
  "cells": [
    {
      "cell_type": "markdown",
      "metadata": {
        "id": "nrD713VgwE3A"
      },
      "source": [
        "<center>\n",
        "<h1 style=\"font-family:verdana\">\n",
        " 🏘 Sistema de diàleg basat en regles 🏘 <h1>\n",
        "\n",
        "\n",
        "\n",
        "\n",
        "\n",
        "\n"
      ]
    },
    {
      "cell_type": "markdown",
      "metadata": {
        "id": "VOK-8Oq6zpUS"
      },
      "source": [
        "<p>   🎯 <b>Objectiu</b>: en aquesta pràctica aprendrem a crear un assistent senzill de compra d'habitatges. El sistema haurà d'identificar i mostrar les cases que coincideixen amb les preferències de l'usuari. A poc a poc anirem afegint-hi funcionalitats, perquè el sistema siga més complet. </p>\n",
        "\n",
        "<p> ✨ <b>Contingut</b>: en primer lloc, començarem amb un exemple senzill en què el sistema llançarà unes preguntes i respostes predefinides i l'usuari haurà d'escollir. A poc a poc anirem afegint-hi funcionalitats, perquè el sistema siga més complet. </p>\n",
        "\n",
        "✏ <b>Exercicis</b>: en cada secció anireu trobant exercicis que haureu d'anar resolent.\n",
        "\n",
        "---\n",
        "\n",
        "<h2> Índex </h2>\n",
        "\n",
        "\n",
        "1. [Fitxer JSON](#section-one)\n",
        "  * [Exercici 1](#ex-one)\n",
        "2. [Sistema de diàleg senzill](#section-two)\n",
        "  * [Exercici 2](#ex-two)\n",
        "  * [Exercici 3](#ex-three)\n",
        "  * [Exercici 4](#ex-four)\n",
        "3. [Millorem el sistema de diàleg](#section-three)\n",
        "  * [Exercici 5](#ex-five)\n",
        "  * [Exercici 6](#ex-six)\n",
        "4. [Lliurable](#section-four)\n",
        "---\n"
      ]
    },
    {
      "cell_type": "code",
      "execution_count": 1,
      "metadata": {
        "colab": {
          "base_uri": "https://localhost:8080/"
        },
        "id": "ZwCGblA9TXNq",
        "outputId": "472123ff-84e5-4d64-e7d1-a5ab0aa6be3b"
      },
      "outputs": [
        {
          "output_type": "stream",
          "name": "stdout",
          "text": [
            "Mounted at /content/drive\n"
          ]
        }
      ],
      "source": [
        "from google.colab import drive\n",
        "drive.mount('/content/drive')"
      ]
    },
    {
      "cell_type": "code",
      "execution_count": 2,
      "metadata": {
        "colab": {
          "base_uri": "https://localhost:8080/"
        },
        "id": "IlPoWdgTrQX9",
        "outputId": "0a9fa908-3453-40e0-dca9-b40e0c229412"
      },
      "outputs": [
        {
          "output_type": "stream",
          "name": "stderr",
          "text": [
            "[nltk_data] Downloading package omw-1.4 to /root/nltk_data...\n",
            "[nltk_data] Downloading package stopwords to /root/nltk_data...\n",
            "[nltk_data]   Unzipping corpora/stopwords.zip.\n",
            "[nltk_data] Downloading package wordnet to /root/nltk_data...\n",
            "[nltk_data] Downloading package punkt to /root/nltk_data...\n",
            "[nltk_data]   Unzipping tokenizers/punkt.zip.\n"
          ]
        }
      ],
      "source": [
        "from nltk.tokenize.treebank import TreebankWordTokenizer\n",
        "import nltk\n",
        "nltk.download('omw-1.4')\n",
        "nltk.download('stopwords')\n",
        "nltk.download('wordnet')\n",
        "nltk.download('punkt')\n",
        "\n",
        "from nltk.corpus import stopwords\n",
        "from nltk.stem.porter import PorterStemmer\n",
        "from nltk.stem import WordNetLemmatizer\n",
        "from nltk.tokenize import TweetTokenizer\n",
        "\n",
        "import json\n",
        "import sys"
      ]
    },
    {
      "cell_type": "markdown",
      "metadata": {
        "id": "Zy3WwD_FPJFW"
      },
      "source": [
        "<h1><a name=\"section-one\"> 1. Fitxer JSON </a></h1>\n",
        "\n",
        "En primer lloc, carregarem el fitxer JSON per analitzar-ne l'estructura."
      ]
    },
    {
      "cell_type": "code",
      "execution_count": 3,
      "metadata": {
        "colab": {
          "base_uri": "https://localhost:8080/"
        },
        "id": "kR5ovNENrER1",
        "outputId": "44a1cb71-c593-4b79-95b6-894456fae001"
      },
      "outputs": [
        {
          "output_type": "stream",
          "name": "stdout",
          "text": [
            "Start message:  Welcome to the House Buying Assistant!\n",
            "End message:  Thank you for using the House Buying Assistant. Goodbye!\n",
            "Questions:  [{'question': 'How many bedrooms do you need?', 'type': 'numerical', 'prompt': 'Enter your choice (1 - 5 bedrooms): ', 'answer_key': 'bedrooms'}, {'question': 'How many bathrooms do you need?', 'type': 'numerical', 'prompt': 'Enter your choice (1 - 3 bathrooms): ', 'answer_key': 'bathrooms'}, {'question': 'What is your budget for the house?', 'type': 'numerical', 'prompt': 'Enter your choice (1k - 999k euros):', 'answer_key': 'price'}, {'question': 'How many square meters do you need?', 'type': 'numerical', 'prompt': 'Enter your choice (30 - 200 meters)', 'answer_key': 'square_meters'}, {'question': 'Which city or neighborhood would you prefer?', 'type': 'multichoice', 'prompt': 'Enter your choice', 'answer_key': 'location'}]\n",
            "House:  [{'id': 1, 'type': 'rent', 'bedrooms': '3', 'bathrooms': '2', 'price': '1200', 'square_meters': '100', 'floor': '3', 'elevator': 'Yes', 'commercial_use': 'No', 'terrace': 'No', 'location': 'Santa Coloma de Gramenet'}, {'id': 2, 'type': 'sale', 'bedrooms': '4', 'bathrooms': '2', 'price': '250k', 'square_meters': '120', 'floor': '0', 'elevator': 'No', 'commercial_use': 'Yes', 'terrace': 'Yes', 'location': 'Santa Coloma de Gramenet'}, {'id': 3, 'type': 'rent', 'bedrooms': '2', 'bathrooms': '1', 'price': '800', 'square_meters': '80', 'floor': '8', 'elevator': 'Yes', 'commercial_use': 'No', 'terrace': 'No', 'location': 'Santa Coloma de Gramenet'}, {'id': 4, 'type': 'sale', 'bedrooms': '1', 'bathrooms': '1', 'price': '100k', 'square_meters': '50', 'floor': '1', 'elevator': 'No', 'commercial_use': 'No', 'terrace': 'No', 'location': 'Santa Coloma de Gramenet'}, {'id': 5, 'type': 'rent', 'bedrooms': '1', 'bathrooms': '1', 'price': '650', 'square_meters': '55', 'floor': '2', 'elevator': 'No', 'commercial_use': 'Yes', 'terrace': 'No', 'location': 'Santa Coloma de Gramenet'}, {'id': 6, 'type': 'sale', 'bedrooms': '2', 'bathrooms': '1', 'price': '120k', 'square_meters': '80', 'floor': '4', 'elevator': 'No', 'commercial_use': 'No', 'terrace': 'No', 'location': 'Santa Coloma de Gramenet'}, {'id': 7, 'type': 'rent', 'bedrooms': '5', 'bathrooms': '2', 'price': '2000', 'square_meters': '150', 'floor': '2', 'elevator': 'Yes', 'commercial_use': 'No', 'terrace': 'Yes', 'location': 'Santa Coloma de Gramenet'}, {'id': 8, 'type': 'sale', 'bedrooms': '4', 'bathrooms': '2', 'price': '400k', 'square_meters': '150', 'floor': '5', 'elevator': 'Yes', 'commercial_use': 'Yes', 'terrace': 'Yes', 'location': 'Esplugues de Llobregat'}, {'id': 9, 'type': 'rent', 'bedrooms': '1', 'bathrooms': '1', 'price': '700', 'square_meters': '55', 'floor': '3', 'elevator': 'No', 'commercial_use': 'No', 'terrace': 'Yes', 'location': 'Esplugues de Llobregat'}, {'id': 10, 'type': 'sale', 'bedrooms': '4', 'bathrooms': '3', 'price': '262k', 'square_meters': '75', 'floor': '1', 'elevator': 'Yes', 'commercial_use': 'Yes', 'terrace': 'No', 'location': 'Esplugues de Llobregat'}, {'id': 11, 'type': 'rent', 'bedrooms': '3', 'bathrooms': '1', 'price': '1100', 'square_meters': '60', 'floor': '2', 'elevator': 'No', 'commercial_use': 'No', 'terrace': 'Yes', 'location': 'Esplugues de Llobregat'}, {'id': 12, 'type': 'sale', 'bedrooms': '4', 'bathrooms': '2', 'price': '350k', 'square_meters': '100', 'floor': '6', 'elevator': 'Yes', 'commercial_use': 'Yes', 'terrace': 'Yes', 'location': 'Esplugues de Llobregat'}, {'id': 13, 'type': 'sale', 'bedrooms': '4', 'bathrooms': '2', 'price': '330k', 'square_meters': '150', 'floor': '2', 'elevator': 'Yes', 'commercial_use': 'Yes', 'terrace': 'Yes', 'location': \"L'Hospitalet de Llobregat\"}, {'id': 14, 'type': 'rent', 'bedrooms': '3', 'bathrooms': '1', 'price': '1500', 'square_meters': '100', 'floor': '3', 'elevator': 'No', 'commercial_use': 'No', 'terrace': 'No', 'location': \"L'Hospitalet de Llobregat\"}, {'id': 15, 'type': 'sale', 'bedrooms': '2', 'bathrooms': '1', 'price': '190k', 'square_meters': '75', 'floor': '0', 'elevator': 'No', 'commercial_use': 'Yes', 'terrace': 'Yes', 'location': \"L'Hospitalet de Llobregat\"}, {'id': 16, 'type': 'sale', 'bedrooms': '3', 'bathrooms': '2', 'price': '176k', 'square_meters': '80', 'floor': '1', 'elevator': 'No', 'commercial_use': 'No', 'terrace': 'No', 'location': \"L'Hospitalet de Llobregat\"}, {'id': 17, 'type': 'rent', 'bedrooms': '1', 'bathrooms': '1', 'price': '450', 'square_meters': '45', 'floor': '6', 'elevator': 'No', 'commercial_use': 'No', 'terrace': 'No', 'location': 'Barcelona'}, {'id': 18, 'type': 'rent', 'bedrooms': '1', 'bathrooms': '1', 'price': '850', 'square_meters': '50', 'floor': '4', 'elevator': 'Yes', 'commercial_use': 'No', 'terrace': 'Yes', 'location': 'Barcelona'}, {'id': 19, 'type': 'rent', 'bedrooms': '3', 'bathrooms': '1', 'price': '600', 'square_meters': '75', 'floor': '1', 'elevator': 'No', 'commercial_use': 'Yes', 'terrace': 'Yes', 'location': 'Barcelona'}, {'id': 20, 'type': 'sale', 'bedrooms': '3', 'bathrooms': '2', 'price': '360k', 'square_meters': '90', 'floor': '2', 'elevator': 'No', 'commercial_use': 'No', 'terrace': 'Yes', 'location': 'Barcelona'}, {'id': 21, 'type': 'sale', 'bedrooms': '4', 'bathrooms': '2', 'price': '480k', 'square_meters': '120', 'floor': '3', 'elevator': 'Yes', 'commercial_use': 'Yes', 'terrace': 'Yes', 'location': 'Barcelona'}, {'id': 22, 'type': 'rent', 'bedrooms': '4', 'bathrooms': '2', 'price': '3000', 'square_meters': '100', 'floor': '0', 'elevator': 'No', 'commercial_use': 'Yes', 'terrace': 'No', 'location': 'Barcelona'}, {'id': 23, 'type': 'sale', 'bedrooms': '3', 'bathrooms': '2', 'price': '285k', 'square_meters': '95', 'floor': '1', 'elevator': 'Yes', 'commercial_use': 'No', 'terrace': 'No', 'location': 'Barcelona'}, {'id': 24, 'type': 'sale', 'bedrooms': '1', 'bathrooms': '1', 'price': '200k', 'square_meters': '50', 'floor': '2', 'elevator': 'No', 'commercial_use': 'No', 'terrace': 'Yes', 'location': 'Barcelona'}, {'id': 25, 'type': 'sale', 'bedrooms': '2', 'bathrooms': '1', 'price': '180k', 'square_meters': '60', 'floor': '3', 'elevator': 'No', 'commercial_use': 'Yes', 'terrace': 'No', 'location': 'Barcelona'}]\n"
          ]
        }
      ],
      "source": [
        "with open('/content/house_data.json') as f:\n",
        "  data = json.load(f)\n",
        "\n",
        "print('Start message: ', data['start_message'])\n",
        "print('End message: ', data['end_message'])\n",
        "print('Questions: ', data['questions'])\n",
        "print('House: ', data['houses'])"
      ]
    },
    {
      "cell_type": "markdown",
      "metadata": {
        "id": "44cDB0gnrnCF"
      },
      "source": [
        "Podeu veure com al fitxer JSON podem trobar el missatge de benvinguda i el missatge de comiat. Les diferents preguntes predefinides que el sistema demanarà a l'usuari. I les cases que l'agència té disponibles per a oferir a l'usuari.\n",
        "\n",
        "Si no acabeu d'entendre el format, podeu copiar el contingut del fitxer JSON [aquí](https://jsonviewer.stack.hu/) per visualitzar millor l'estructura."
      ]
    },
    {
      "cell_type": "markdown",
      "metadata": {
        "id": "VY74xa6_PdJ5"
      },
      "source": [
        "---\n",
        "\n",
        "\n",
        "\n",
        " <h1><a name=\"ex-one\"><center> ✏ Exercici 1 ✏</a></h1>\n"
      ]
    },
    {
      "cell_type": "markdown",
      "metadata": {
        "id": "203gq-tFsp3n"
      },
      "source": [
        "En aquest primer exercici us demanem que afegiu una nova casa manualment al fitxer JSON amb l'id 26. La resta de camps els podeu emplenar com vulgueu.\n",
        "\n",
        "Si ho heu fet correctament podreu veure al següent *print* les dades que heu introduït."
      ]
    },
    {
      "cell_type": "code",
      "execution_count": 4,
      "metadata": {
        "collapsed": true,
        "id": "iJcPMz3C0ZGX"
      },
      "outputs": [],
      "source": [
        "house_26 = {'id': 26,\n",
        "  'type': 'rent',\n",
        "  'bedrooms': '3',\n",
        "  'bathrooms': '2',\n",
        "  'price': '1300',\n",
        "  'square_meters': '90',\n",
        "  'floor': '2',\n",
        "  'elevator': 'Yes',\n",
        "  'commercial_use': 'No',\n",
        "  'terrace': 'Yes',\n",
        "  'location': 'Barcelona'}\n",
        "data['houses'].append(house_26)"
      ]
    },
    {
      "cell_type": "code",
      "execution_count": null,
      "metadata": {
        "colab": {
          "base_uri": "https://localhost:8080/"
        },
        "id": "djlcHiwQIRAU",
        "outputId": "2be79190-a59d-4b42-eed1-a1b717b0fe04"
      },
      "outputs": [
        {
          "name": "stdout",
          "output_type": "stream",
          "text": [
            "House ID: 26\n",
            "Bedrooms: 3\n",
            "Bathrooms: 2\n",
            "Price: 1300\n",
            "Square Meters: 90\n",
            "Location: Barcelona\n"
          ]
        }
      ],
      "source": [
        "id = 26\n",
        "house = data['houses'][id-1]\n",
        "\n",
        "print(f\"House ID: {house['id']}\")\n",
        "print(f\"Bedrooms: {house['bedrooms']}\")\n",
        "print(f\"Bathrooms: {house['bathrooms']}\")\n",
        "print(f\"Price: {house['price']}\")\n",
        "print(f\"Square Meters: {house['square_meters']}\")\n",
        "print(f\"Location: {house['location']}\")"
      ]
    },
    {
      "cell_type": "markdown",
      "metadata": {
        "id": "KHihCXXdWvJJ"
      },
      "source": [
        "---"
      ]
    },
    {
      "cell_type": "markdown",
      "metadata": {
        "id": "K1F0NWgvPUdG"
      },
      "source": [
        "<h1><a name=\"section-two\"> 2. Sistema de diàleg senzill </a></h1>\n"
      ]
    },
    {
      "cell_type": "markdown",
      "metadata": {
        "id": "vqkW23xFMzx-"
      },
      "source": [
        "En aquesta primera part crearem un sistema senzill que mostrarà les preguntes predefinides i, a continuació l'usuari haurà d'introduir la resposta. Tractarem de manera diferent les preguntes en què la resposta siga un número i les preguntes d'opció múltiple.\n",
        "\n",
        "Intenteu entendre el funcionament, ja que treballarem sobre aquest codi."
      ]
    },
    {
      "cell_type": "code",
      "execution_count": 5,
      "metadata": {
        "colab": {
          "base_uri": "https://localhost:8080/"
        },
        "id": "9B892KaLOG_M",
        "outputId": "c895fede-4d1f-4e1c-9a48-60b78bd40ab6"
      },
      "outputs": [
        {
          "output_type": "stream",
          "name": "stdout",
          "text": [
            "['Vull', 'un', 'pis', 'de', '35k', '€']\n"
          ]
        }
      ],
      "source": [
        "def print_question(prompt, possible_options = []):\n",
        "    print(prompt)\n",
        "    if not len(possible_options) == 0:\n",
        "      print(\"Options:\", \", \".join(possible_options))\n",
        "\n",
        "def initialize_available_options(house_data, available_options):\n",
        "    for house in house_data['houses']:\n",
        "        for key, value in house.items():\n",
        "            available_options.setdefault(key, set()).add(value)\n",
        "\n",
        "def preprocess_answer(answer):\n",
        "    answer = nltk.word_tokenize(answer)\n",
        "    return answer\n",
        "\n",
        "def get_numerical_value(tok_answer):\n",
        "    for token in tok_answer:\n",
        "        if token.isnumeric() or token[:-1].isnumeric():\n",
        "            return token\n",
        "    return ''\n",
        "\n",
        "#Exemple de frase tokenitzada\n",
        "print(preprocess_answer('Vull un pis de 35k €'))"
      ]
    },
    {
      "cell_type": "code",
      "execution_count": 6,
      "metadata": {
        "colab": {
          "base_uri": "https://localhost:8080/"
        },
        "id": "-HVQvjfyrbTr",
        "outputId": "5ee5d3b2-1bbc-4091-8a4d-fb82b258c768"
      },
      "outputs": [
        {
          "name": "stdout",
          "output_type": "stream",
          "text": [
            "How many bedrooms do you need?\n",
            "Enter your choice (1 - 5 bedrooms): 1\n",
            "How many bathrooms do you need?\n",
            "Enter your choice (1 - 3 bathrooms): 3\n",
            "What is your budget for the house?\n",
            "Enter your choice (1k - 999k euros):1k\n",
            "How many square meters do you need?\n",
            "Enter your choice (30 - 200 meters)30\n",
            "Which city or neighborhood would you prefer?\n",
            "Options: Esplugues de Llobregat, Barcelona, L'Hospitalet de Llobregat, Santa Coloma de Gramenet\n",
            "Enter your choiceBarcelona\n"
          ]
        }
      ],
      "source": [
        "def process_numerical_question(question):\n",
        "    print_question(question['question'])\n",
        "    while True:\n",
        "      answer = input(question['prompt'])\n",
        "      tok_answer = preprocess_answer(answer)\n",
        "      value = get_numerical_value(tok_answer)\n",
        "      if not value == '':\n",
        "        return value\n",
        "\n",
        "def process_multichoice_question(question, options):\n",
        "    print_question(question['question'], options)\n",
        "    while True:\n",
        "      answer = input(question['prompt'])\n",
        "      if answer in options:\n",
        "        return answer\n",
        "\n",
        "user_preferences, available_options = {}, {}\n",
        "initialize_available_options(data, available_options)\n",
        "\n",
        "for question in data['questions']:\n",
        "  answer_key = question['answer_key']\n",
        "  possible_options = list(available_options.get(answer_key))\n",
        "\n",
        "  if question['type'] == 'numerical':\n",
        "    answer = process_numerical_question(question)\n",
        "  else:\n",
        "    answer = process_multichoice_question(question, possible_options)\n",
        "\n",
        "  user_preferences[answer_key] = answer"
      ]
    },
    {
      "cell_type": "markdown",
      "metadata": {
        "id": "YBznMtYjPwAT"
      },
      "source": [
        "\n",
        "\n",
        "---\n",
        "\n",
        "\n",
        " <h1><a name=\"ex-two\"><center> ✏ Exercici 2 ✏ </a></h1>"
      ]
    },
    {
      "cell_type": "markdown",
      "metadata": {
        "id": "H0fcTQe1XlmV"
      },
      "source": [
        "A continuació millorarem un poc el sistema. Us proposem que afegiu la frase de benvinguda que tenim guardada al fitxer JSON. És a dir, abans de mostrar la primera pregunta el sistema ens donarà la benvinguda."
      ]
    },
    {
      "cell_type": "code",
      "execution_count": 7,
      "metadata": {
        "colab": {
          "base_uri": "https://localhost:8080/"
        },
        "id": "gScFQPPDYFy3",
        "outputId": "d3f6201f-fe1b-4ac0-a8de-a5f3639966b5"
      },
      "outputs": [
        {
          "name": "stdout",
          "output_type": "stream",
          "text": [
            "Welcome to the House Buying Assistant!\n",
            "How many bedrooms do you need?\n",
            "Enter your choice (1 - 5 bedrooms): 1\n",
            "How many bathrooms do you need?\n",
            "Enter your choice (1 - 3 bathrooms): 3\n",
            "What is your budget for the house?\n",
            "Enter your choice (1k - 999k euros):1k\n",
            "How many square meters do you need?\n",
            "Enter your choice (30 - 200 meters)30\n",
            "Which city or neighborhood would you prefer?\n",
            "Options: Esplugues de Llobregat, Barcelona, L'Hospitalet de Llobregat, Santa Coloma de Gramenet\n",
            "Enter your choiceBarcelona\n"
          ]
        }
      ],
      "source": [
        "# Creem una funció per executar el sistema de diàleg\n",
        "def dialeg(data):\n",
        "  user_preferences, available_options = {}, {}\n",
        "  initialize_available_options(data, available_options)\n",
        "\n",
        "  # Afegim la frase de benvinguda\n",
        "  print(data['start_message'])\n",
        "\n",
        "  for question in data['questions']:\n",
        "    answer_key = question['answer_key']\n",
        "    possible_options = list(available_options.get(answer_key))\n",
        "\n",
        "    if question['type'] == 'numerical':\n",
        "      answer = process_numerical_question(question)\n",
        "    else:\n",
        "      answer = process_multichoice_question(question, possible_options)\n",
        "\n",
        "    user_preferences[answer_key] = answer\n",
        "\n",
        "  return user_preferences\n",
        "\n",
        "user_preferences = dialeg(data)"
      ]
    },
    {
      "cell_type": "markdown",
      "metadata": {
        "id": "_ygcX-SXPy__"
      },
      "source": [
        "---\n",
        "\n",
        "\n",
        " <h1><a name=\"ex-three\"><center> ✏ Exercici 3 ✏ </a></h1>\n",
        "\n",
        "En aquest exercici us demanem que permeteu a l'usuari abandonar el programa quan ho desitge. Per exemple, si l'usuari escriu `quit`, que el sistema s'acomiade amb l'oració de comiat que trobareu al JSON i finalitze el programa.\n",
        "\n",
        "\n",
        "🙃 `sys.exit()` genera una excepció SystemExit."
      ]
    },
    {
      "cell_type": "code",
      "execution_count": 8,
      "metadata": {
        "colab": {
          "base_uri": "https://localhost:8080/",
          "height": 193
        },
        "id": "e7gUiHk6EeYc",
        "outputId": "0bd4d2ef-02ef-4363-d3c2-c0212207c1be"
      },
      "outputs": [
        {
          "output_type": "stream",
          "name": "stdout",
          "text": [
            "Welcome to the House Buying Assistant!\n",
            "How many bedrooms do you need?\n",
            "Enter your choice (1 - 5 bedrooms): quit\n",
            "Thank you for using the House Buying Assistant. Goodbye!\n"
          ]
        },
        {
          "output_type": "error",
          "ename": "SystemExit",
          "evalue": "",
          "traceback": [
            "An exception has occurred, use %tb to see the full traceback.\n",
            "\u001b[0;31mSystemExit\u001b[0m\n"
          ]
        },
        {
          "output_type": "stream",
          "name": "stderr",
          "text": [
            "/usr/local/lib/python3.10/dist-packages/IPython/core/interactiveshell.py:3561: UserWarning: To exit: use 'exit', 'quit', or Ctrl-D.\n",
            "  warn(\"To exit: use 'exit', 'quit', or Ctrl-D.\", stacklevel=1)\n"
          ]
        }
      ],
      "source": [
        "def process_numerical_question(question):\n",
        "    print_question(question['question'])\n",
        "    while True:\n",
        "      answer = input(question['prompt'])\n",
        "      #Afegim l'opció de que la resposta sigui \"quit\"\n",
        "      if answer.lower() == \"quit\":\n",
        "        return answer\n",
        "      tok_answer = preprocess_answer(answer)\n",
        "      value = get_numerical_value(tok_answer)\n",
        "      if not value == '':\n",
        "        return value\n",
        "\n",
        "def process_multichoice_question(question, options):\n",
        "    print_question(question['question'], options)\n",
        "    while True:\n",
        "      answer = input(question['prompt'])\n",
        "      #Afegim l'opció de que la resposta sigui \"quit\"\n",
        "      if answer in options or answer.lower() == \"quit\":\n",
        "        return answer\n",
        "\n",
        "\n",
        "def dialeg(data):\n",
        "  user_preferences, available_options = {}, {}\n",
        "  initialize_available_options(data, available_options)\n",
        "  print(data['start_message'])\n",
        "\n",
        "  for question in data['questions']:\n",
        "    answer_key = question['answer_key']\n",
        "    possible_options = list(available_options.get(answer_key))\n",
        "\n",
        "    if question['type'] == 'numerical':\n",
        "      answer = process_numerical_question(question)\n",
        "    else:\n",
        "      answer = process_multichoice_question(question, possible_options)\n",
        "\n",
        "    # Afegim l'excepció SystemExit\n",
        "    if answer.lower() == \"quit\":\n",
        "      print(data['end_message'])\n",
        "      sys.exit()\n",
        "\n",
        "    user_preferences[answer_key] = answer\n",
        "\n",
        "  return user_preferences\n",
        "\n",
        "user_preferences = dialeg(data)"
      ]
    },
    {
      "cell_type": "markdown",
      "metadata": {
        "id": "6-mx4dwNmthd"
      },
      "source": [
        "Funciona també si escriviu `Quit`?"
      ]
    },
    {
      "cell_type": "markdown",
      "metadata": {
        "id": "UwkmkXdq8vUA"
      },
      "source": [
        "Sí, funciona perquè en la condició que comprova si s'ha d'aturar el sistema el text es passa a minúscules:  *answer.lower() == \"quit\"*\n",
        "\n"
      ]
    },
    {
      "cell_type": "markdown",
      "metadata": {
        "id": "QcOE82F-P1lQ"
      },
      "source": [
        "---\n",
        "\n",
        " <h1><a name=\"ex-four\"><center> ✏ Exercici 4 ✏ </a></h1>"
      ]
    },
    {
      "cell_type": "markdown",
      "metadata": {
        "id": "F-is-nYIZVop"
      },
      "source": [
        "Fins ara tenim a `user_preferences` les opcions que l'usuari ha escollit.\n",
        "\n",
        "\n",
        "\n",
        "\n",
        "\n"
      ]
    },
    {
      "cell_type": "markdown",
      "metadata": {
        "id": "pxX2XqAsMjvq"
      },
      "source": [
        "Per tant, ara haurem de revisar si l'agència disposa d'alguna casa disponible amb aquestes característiques. Per això us proposem completar la funció `find_suitable_houses`. Aquesta funció tornarà una llista amb tants diccionaris com cases disponibles. Per exemple si segons les preferències de l'usuari només està disponible la casa amb id 3, `suitable_house` serà:\n",
        "\n",
        "\n",
        "```\n",
        "[{'id': 3, 'bedrooms': '2', 'bathrooms': '1', 'price': '160k', 'square_meters': '80', 'location': 'Santa Coloma de Gramenet'}]\n",
        "```"
      ]
    },
    {
      "cell_type": "code",
      "execution_count": 9,
      "metadata": {
        "id": "0GOWOCnuaN5f"
      },
      "outputs": [],
      "source": [
        "def k_to_number(value):\n",
        "  \"\"\"\n",
        "  Funció que converteix els preus en milers (10k) a enters sense text (10000)\n",
        "  \"\"\"\n",
        "  if value[-1] == 'k':\n",
        "    return int(value[:-1]*1000)\n",
        "  return int(value)\n",
        "\n",
        "def find_suitable_houses(data, user_preferences):\n",
        "  \"\"\"\n",
        "  Funció que revisa les preferències de l'usuari i troba aquelles cases\n",
        "  que s'ajusten a les preferències o tenen unes millors característiques.\n",
        "  \"\"\"\n",
        "  suitable_houses = []\n",
        "  for house in data['houses']:\n",
        "    is_suitable = True\n",
        "    for key in user_preferences:\n",
        "      if key == 'location' and house[key] != user_preferences[key]:\n",
        "        is_suitable = False\n",
        "        break\n",
        "      elif key in ['bedrooms', 'bathrooms', 'square_meters'] and (int(house[key]) < int(user_preferences[key])):\n",
        "        is_suitable = False\n",
        "        break\n",
        "      elif key == 'price' and k_to_number(house[key]) > k_to_number(user_preferences[key]):\n",
        "        is_suitable = False\n",
        "        break\n",
        "    if is_suitable:\n",
        "      suitable_houses.append(house)\n",
        "  return suitable_houses"
      ]
    },
    {
      "cell_type": "markdown",
      "metadata": {
        "id": "Fo-4vsc2WIPx"
      },
      "source": [
        "---\n",
        "\n"
      ]
    },
    {
      "cell_type": "markdown",
      "metadata": {
        "id": "EJ08m-3T21eS"
      },
      "source": [
        "Una vegada tingueu la funció `find_suitable_houses` programada, podreu executar el següent *script* que us mostrarà, si n'hi ha, la casa o cases disponibles amb les característiques que heu triat."
      ]
    },
    {
      "cell_type": "code",
      "execution_count": 11,
      "metadata": {
        "colab": {
          "base_uri": "https://localhost:8080/"
        },
        "id": "UyT1h1hcakNl",
        "outputId": "3df0adc3-46f7-461c-f57a-00797dbedab1"
      },
      "outputs": [
        {
          "output_type": "stream",
          "name": "stdout",
          "text": [
            "Welcome to the House Buying Assistant!\n",
            "How many bedrooms do you need?\n",
            "Enter your choice (1 - 5 bedrooms): 1\n",
            "How many bathrooms do you need?\n",
            "Enter your choice (1 - 3 bathrooms): 1\n",
            "What is your budget for the house?\n",
            "Enter your choice (1k - 999k euros):999k\n",
            "How many square meters do you need?\n",
            "Enter your choice (30 - 200 meters)30\n",
            "Which city or neighborhood would you prefer?\n",
            "Options: Esplugues de Llobregat, Barcelona, L'Hospitalet de Llobregat, Santa Coloma de Gramenet\n",
            "Enter your choiceBarcelona\n",
            "\n",
            "Based on your preferences, the most suitable houses are:\n",
            "House ID: 17\n",
            "Type: rent\n",
            "Bedrooms: 1\n",
            "Bathrooms: 1\n",
            "Price: 450 euros\n",
            "Square Meters: 45 m^2\n",
            "Elevator: No\n",
            "Location: Barcelona\n",
            "\n",
            "House ID: 18\n",
            "Type: rent\n",
            "Bedrooms: 1\n",
            "Bathrooms: 1\n",
            "Price: 850 euros\n",
            "Square Meters: 50 m^2\n",
            "Elevator: Yes\n",
            "Location: Barcelona\n",
            "\n",
            "House ID: 19\n",
            "Type: rent\n",
            "Bedrooms: 3\n",
            "Bathrooms: 1\n",
            "Price: 600 euros\n",
            "Square Meters: 75 m^2\n",
            "Elevator: No\n",
            "Location: Barcelona\n",
            "\n",
            "House ID: 20\n",
            "Type: sale\n",
            "Bedrooms: 3\n",
            "Bathrooms: 2\n",
            "Price: 360k euros\n",
            "Square Meters: 90 m^2\n",
            "Elevator: No\n",
            "Location: Barcelona\n",
            "\n",
            "House ID: 21\n",
            "Type: sale\n",
            "Bedrooms: 4\n",
            "Bathrooms: 2\n",
            "Price: 480k euros\n",
            "Square Meters: 120 m^2\n",
            "Elevator: Yes\n",
            "Location: Barcelona\n",
            "\n",
            "House ID: 22\n",
            "Type: rent\n",
            "Bedrooms: 4\n",
            "Bathrooms: 2\n",
            "Price: 3000 euros\n",
            "Square Meters: 100 m^2\n",
            "Elevator: No\n",
            "Location: Barcelona\n",
            "\n",
            "House ID: 23\n",
            "Type: sale\n",
            "Bedrooms: 3\n",
            "Bathrooms: 2\n",
            "Price: 285k euros\n",
            "Square Meters: 95 m^2\n",
            "Elevator: Yes\n",
            "Location: Barcelona\n",
            "\n",
            "House ID: 24\n",
            "Type: sale\n",
            "Bedrooms: 1\n",
            "Bathrooms: 1\n",
            "Price: 200k euros\n",
            "Square Meters: 50 m^2\n",
            "Elevator: No\n",
            "Location: Barcelona\n",
            "\n",
            "House ID: 25\n",
            "Type: sale\n",
            "Bedrooms: 2\n",
            "Bathrooms: 1\n",
            "Price: 180k euros\n",
            "Square Meters: 60 m^2\n",
            "Elevator: No\n",
            "Location: Barcelona\n",
            "\n",
            "House ID: 26\n",
            "Type: rent\n",
            "Bedrooms: 3\n",
            "Bathrooms: 2\n",
            "Price: 1300 euros\n",
            "Square Meters: 90 m^2\n",
            "Elevator: Yes\n",
            "Location: Barcelona\n",
            "\n"
          ]
        }
      ],
      "source": [
        "def print_suitable_houses(suitable_houses):\n",
        "  if suitable_houses:\n",
        "    print(\"\\nBased on your preferences, the most suitable houses are:\")\n",
        "    for house in suitable_houses:\n",
        "      print(f\"House ID: {house['id']}\")\n",
        "      print(f\"Type: {house['type']}\")\n",
        "      print(\"Bedrooms:\", house['bedrooms'])\n",
        "      print(\"Bathrooms:\", house['bathrooms'])\n",
        "      print(\"Price:\", house['price'], \"euros\")\n",
        "      print(\"Square Meters:\", house['square_meters'], \"m^2\")\n",
        "      print(\"Elevator:\", house['elevator'])\n",
        "      print(\"Location:\", house['location'])\n",
        "      print()\n",
        "  else:\n",
        "    print(\"\\nSorry, no suitable houses match your preferences. \\n\")\n",
        "\n",
        "user_preferences = dialeg(data)\n",
        "suitable_houses = find_suitable_houses(data, user_preferences)\n",
        "print_suitable_houses(suitable_houses)"
      ]
    },
    {
      "cell_type": "markdown",
      "metadata": {
        "id": "TCiN1L6SP4sU"
      },
      "source": [
        "<h1><a name=\"section-three\"> 3. Millorem el sistema de diàleg </a></h1>\n"
      ]
    },
    {
      "cell_type": "markdown",
      "metadata": {
        "id": "quqFEbxvQEmV"
      },
      "source": [
        "---\n",
        "\n",
        "\n",
        " <h1><a name=\"ex-five\"><center> ✏ Exercici 5 ✏ </a></h1>\n",
        "\n",
        "Tal com haureu comprovat sempre esteu obligats a triar una opció. En aquest últim exercici proposem que afegiu l'opció de no triar-ne cap. És a dir, si ens és igual el nombre d'habitacions, podrem posar per exemple `any` i el sistema ens farà la següent pregunta."
      ]
    },
    {
      "cell_type": "code",
      "execution_count": 12,
      "metadata": {
        "id": "t_OJqUoF5NE-"
      },
      "outputs": [],
      "source": [
        "def process_numerical_question(question):\n",
        "    print_question(question['question'])\n",
        "    while True:\n",
        "      answer = input(question['prompt'])\n",
        "      #Afegim l'opció de que la resposta sigui \"any\" o \"quit\"\n",
        "      if answer.lower() == \"quit\" or answer.lower() == \"any\":\n",
        "        return answer\n",
        "      tok_answer = preprocess_answer(answer)\n",
        "      value = get_numerical_value(tok_answer)\n",
        "      if not value == '':\n",
        "        return value\n",
        "\n",
        "def process_multichoice_question(question, options):\n",
        "    print_question(question['question'], options)\n",
        "    while True:\n",
        "      answer = input(question['prompt'])\n",
        "      #Afegim l'opció de que la resposta sigui \"any\" o \"quit\"\n",
        "      if answer in options or answer.lower() == \"quit\" or answer.lower() == \"any\":\n",
        "        return answer"
      ]
    },
    {
      "cell_type": "code",
      "execution_count": 13,
      "metadata": {
        "id": "ju98Id5nAtcw"
      },
      "outputs": [],
      "source": [
        "def find_suitable_houses(data, user_preferences):\n",
        "  \"\"\"\n",
        "  Funció que revisa les preferències de l'usuari i troba aquelles cases\n",
        "  que s'ajusten a les preferències o tenen unes millors característiques.\n",
        "  \"\"\"\n",
        "  suitable_houses = []\n",
        "  for house in data['houses']:\n",
        "    is_suitable = True\n",
        "    for key in user_preferences:\n",
        "      # Afegim la comparació amb \"any\"\n",
        "      if user_preferences[key] != \"any\":\n",
        "          if key == 'location' and house[key] != user_preferences[key]:\n",
        "            is_suitable = False\n",
        "            break\n",
        "          elif key in ['bedrooms', 'bathrooms', 'square_meters'] and (int(house[key]) < int(user_preferences[key])):\n",
        "            is_suitable = False\n",
        "            break\n",
        "          elif key == 'price' and k_to_number(house[key]) > k_to_number(user_preferences[key]):\n",
        "            is_suitable = False\n",
        "            break\n",
        "    if is_suitable:\n",
        "      suitable_houses.append(house)\n",
        "  return suitable_houses"
      ]
    },
    {
      "cell_type": "markdown",
      "metadata": {
        "id": "6wP9PsI0tLKd"
      },
      "source": [
        "---\n",
        "\n",
        "\n",
        "\n",
        " <h1><a name=\"ex-six\"><center> ✏ Exercici 6 ✏ </a></h1>\n",
        "\n",
        "Amplieu el vostre xatbot perquè tinga en compte la següent informació sobre:\n",
        "\n",
        "1. **Tipus d'habitatge:** Pregunteu a l'usuari si vol una casa per a compra (tipus *\"sale\"* a les dades) o per llogar (tipus *\"rent\"*). Al final de l'execució, el sistema haurá de mostrar habitatges amb el tipus seleccionat.\n",
        "\n",
        "2. **Ingressos:** S'aconsella no dedicar més del 35% dels ingressos a l'habitatge. En cas d'escollir lloguer, preguntar a l'usuari els ingressos mensuals de la seua llar, i només mostrar aquells que estiguen per sota del 35%.\n",
        "\n",
        "3. **Planta:** Preguntar als usuaris a quina planta volen viure. Al final de l'execució, només s'oferiràn habitatges que estiguen en aquella planta o superior.\n",
        "\n",
        "4. **Terrassa:** Preguntar a l'usuari si vol un habitatge amb terrassa o no. En cas de voler terrassa, només s'oferiran habitatges amb terrassa. En cas contrari, oferir habitatges amb terrassa o sense.\n",
        "\n",
        "5. **Ascensor:** Preguntar a l'usuari si vol un habitatge amb ascensor o no. En cas de voler ascensor, només s'oferiran habitatges amb ascensor. En cas contrari, oferir habitatges amb ascensor o sense.\n",
        "\n",
        "6. **Us comercial:** Preguntar a l'usuari si vol fer servir l'habitatge com a negoci. En cas afirmatiu, només oferir habitatges amb la propietat *\"commercial use\"*\n",
        "\n",
        "---\n",
        "\n",
        "\n",
        "\n"
      ]
    },
    {
      "cell_type": "code",
      "execution_count": null,
      "metadata": {
        "id": "iD1w7vxrFLCs"
      },
      "outputs": [],
      "source": [
        "# Exercici resolt en la versió final"
      ]
    },
    {
      "cell_type": "markdown",
      "metadata": {
        "id": "AwPm38lDDGNB"
      },
      "source": [
        " <h1><a name=\"ex-seven\"><center> ✏ Exercici 7 ✏ </a></h1>\n",
        "\n",
        "Ara ja teniu un sistema funcional. Aplicant el mètode vist a classe (Exemples, Camins, Prototipat i Proves) milloreu aquest sistema per donar una millor experiència als usuaris."
      ]
    },
    {
      "cell_type": "code",
      "execution_count": null,
      "metadata": {
        "id": "Su03LGsxFSMb"
      },
      "outputs": [],
      "source": [
        "# Exercici resolt en la versió final"
      ]
    },
    {
      "cell_type": "markdown",
      "metadata": {
        "id": "4FaXlfF2rraz"
      },
      "source": [
        "<h1><a name=\"section-four\"> 4. Lliurable </a></h1>\n",
        "\n",
        "Heu d'entregar un document PDF de com a **màxim 10 pàgines** que incloga els resultats de tots els exercicis així com una explicació de cadascun dels resultats i de la modificació que heu fet. L'estructura del document és:\n",
        "\n",
        "1. Introducció.\n",
        "2. Resultats (amb raonament).\n",
        "3. Conversation flow del vostre sistema final.\n",
        "4. Conclusions.\n",
        "\n",
        "No cal que afegiu el vostre codi al document, podeu entregar el *notebook* juntament amb el document.\n"
      ]
    },
    {
      "cell_type": "code",
      "execution_count": 14,
      "metadata": {
        "id": "43JfIM-hK1zL"
      },
      "outputs": [],
      "source": [
        "with open('/content/house_data.json') as f:\n",
        "  data = json.load(f)\n",
        "\n",
        "# MODIFICAR ELS PROMPTS PERQUÈ SIGUIN MÉS LLEGIBLES\n",
        "for question in data['questions']:\n",
        "    if question['answer_key'] == 'square_meters':\n",
        "        question['prompt'] = 'Enter your choice (30 - 200 square meters): '\n",
        "    elif question['answer_key'] == 'location':\n",
        "        question['prompt'] = 'Enter your choice: '\n",
        "    elif question['answer_key'] == 'price':\n",
        "        question['prompt'] = 'Enter your choice (1k - 999k euros): '\n",
        "\n",
        "\n",
        "# EXERCICI 6\n",
        "typehouse = {'question': 'Do you want to buy or rent the house?', 'type': 'multichoice', 'prompt': 'Enter your choice: ', 'answer_key': 'type'}\n",
        "data['questions'].append(typehouse)\n",
        "floor = {\"question\": \"In which floor do you want to live?\", \"type\": \"numerical\", \"prompt\": \"Enter your choice (0 - 8 floors): \", \"answer_key\": \"floor\"}\n",
        "data['questions'].append(floor)\n",
        "terrace = {\"question\": \"Do you want terrace?\", \"type\": \"multichoice\", \"prompt\": \"Enter your choice: \", \"answer_key\": \"terrace\"}\n",
        "data['questions'].append(terrace)\n",
        "elevator = {'question': 'Do you need an elevator?', 'type': 'multichoice', 'prompt': 'Enter your choice: ', 'answer_key': 'elevator'}\n",
        "data['questions'].append(elevator)\n",
        "commercial_use = {'question': 'Do you want to give it a commercial use?', 'type': 'multichoice', 'prompt': 'Enter your choice: ', 'answer_key': 'commercial_use'}\n",
        "data['questions'].append(commercial_use)\n",
        "\n",
        "\n",
        "# TRACTEM ELS MISSATGES I N'AFEGIM DE NOUS\n",
        "if isinstance(data.get('start_message'), str):\n",
        "    data['start_message'] = [data.pop('start_message')]\n",
        "if isinstance(data.get('end_message'), str):\n",
        "    data['end_message'] = [data.pop('end_message')]\n",
        "\n",
        "  # Start message\n",
        "data['start_message'].append(\"Let's start your house hunting journey!😊\")\n",
        "data['start_message'].append(\"Hi there! Ready to find your next home?🔍\")\n",
        "data['start_message'].append(\"I'm here to help you find the perfect home for you.🏡\")\n",
        "\n",
        "  # End message\n",
        "data['end_message'].append(\"Thank you for visiting! Good luck with your house search.👋\")\n",
        "data['end_message'].append(\"That's all from me! Feel free to come back anytime.😊\")\n",
        "\n",
        "  # Instructions\n",
        "data['system_instructions'] = \"\\nWhile you're answering the questions, feel free to use these options anytime:\\n    - QUIT: Just type 'quit' if you want to end the session. I'll stop right away.\\n    - ANY: If you type 'any', I'll understand that you don't want to pick any of the options and we’ll move on to the next question.\\n    - RETURN: Want to change your last answer? Type 'return' and I'll take you back to the previous question so you can fix it.\"\n",
        "\n",
        "  # Frases de confirmació\n",
        "data['confirmation_messages'] = []\n",
        "data['confirmation_messages'].append(\"Got it! {preference} is set to {value}.\")\n",
        "data['confirmation_messages'].append(\"You chose {preference} as {value}.\")\n",
        "data['confirmation_messages'].append(\"Thanks! You've set {preference} as {value}.\")\n",
        "\n",
        "\n",
        "  # Respostes invàlides\n",
        "data['invalid_responses'] = {\n",
        "        \"default\": [\n",
        "            \"I didn't quite get that, can you try again?\",\n",
        "            \"Hmm, that doesn't seem right. Please try again.\",\n",
        "            \"Sorry, that wasn't an option. Could you repeat?\",\n",
        "            \"I'm not sure what you meant. Could you rephrase that?\"],\n",
        "        \"not_a_number\": [\n",
        "            \"That doesn't look like a number. Could you enter a number?\",\n",
        "            \"Please, I need a number here.\",\n",
        "            \"I was expecting a number. Could you type one?\",\n",
        "            \"Oops! Looks like you entered a word instead of a number. Please try again with a number.\",\n",
        "            \"I need a valid number to continue. Can you try again?\"],\n",
        "        \"out_of_range\": [\n",
        "            \"That number is out of the expected range. Please enter a valid number.\",\n",
        "            \"Oops! The number is too high or too low. Try a number within the range.\",\n",
        "            \"Looks like the number is outside the limits. Please enter a number in the correct range.\",\n",
        "            \"That doesn't seem to be a valid option. Please pick a number within the allowed range.\",\n",
        "            \"The number is not in the expected range. Could you try again with a number within the limits?\"]}\n",
        "\n",
        "# AFEGIR VARIACIONS A LES PREGUNTES\n",
        "for question in data['questions']:\n",
        "    if question['answer_key'] == 'bedrooms':\n",
        "        question['question'] = [\n",
        "            'How many bedrooms do you need?',\n",
        "            'How many bedrooms would be ideal for you?',\n",
        "            'What number of bedrooms are you looking for?',\n",
        "            'How many bedrooms would suit your needs?'\n",
        "        ]\n",
        "\n",
        "    elif question['answer_key'] == 'bathrooms':\n",
        "        question['question'] = [\n",
        "            'How many bathrooms do you need?',\n",
        "            'How many bathrooms do you prefer?',\n",
        "            'What number of bathrooms would work for you?',\n",
        "            'How many bathrooms are necessary?'\n",
        "        ]\n",
        "\n",
        "    elif question['answer_key'] == 'price':\n",
        "        question['question'] = [\n",
        "            'What is your budget for the house?',\n",
        "            'What’s the maximum budget you have in mind?',\n",
        "            'How much are you willing to spend on the house?',\n",
        "            'What’s your ideal price range for the house?'\n",
        "        ]\n",
        "\n",
        "    elif question['answer_key'] == 'square_meters':\n",
        "        question['question'] = [\n",
        "            'How many square meters do you need?',\n",
        "            'What’s the minimum size you’re looking for (in m^2)?',\n",
        "            'How big of a house do you want (in square meters)?',\n",
        "            'How many square meters would be ideal for you?'\n",
        "        ]\n",
        "\n",
        "    elif question['answer_key'] == 'location':\n",
        "        question['question'] = [\n",
        "            'Which city or neighborhood would you prefer?',\n",
        "            'In which city or neighborhood would you like to live?',\n",
        "            'Where would you prefer to settle?',\n",
        "            'What location do you have in mind for your new home?'\n",
        "        ]\n",
        "\n",
        "    elif question['answer_key'] == 'type':\n",
        "        question['question'] = [\n",
        "            'Do you want to buy or rent the house?',\n",
        "            'Are you looking to rent or buy?',\n",
        "            'Would you prefer to rent or purchase the property?',\n",
        "            'Do you plan to buy or rent your home?'\n",
        "        ]\n",
        "\n",
        "    elif question['answer_key'] == 'floor':\n",
        "        question['question'] = [\n",
        "            'In which floor do you want to live?',\n",
        "            'Which floor level would you like to live on?',\n",
        "            'Do you prefer a specific floor in the building?',\n",
        "            'What floor would you like your house to be on?'\n",
        "        ]\n",
        "\n",
        "    elif question['answer_key'] == 'terrace':\n",
        "        question['question'] = [\n",
        "            'Do you want a terrace?',\n",
        "            'Would you like a house with a terrace?',\n",
        "            'Are you interested in having a terrace?',\n",
        "            'Do you prefer your house to include a terrace?'\n",
        "        ]\n",
        "\n",
        "    elif question['answer_key'] == 'elevator':\n",
        "        question['question'] = [\n",
        "            'Do you need an elevator?',\n",
        "            'Is an elevator a must for you?',\n",
        "            'Would you need an elevator in the building?',\n",
        "            'Do you prefer having access to an elevator?'\n",
        "        ]\n",
        "\n",
        "    elif question['answer_key'] == 'commercial_use':\n",
        "        question['question'] = [\n",
        "            'Do you want to give it a commercial use?',\n",
        "            'Would you use the property for commercial purposes?',\n",
        "            'Are you planning to use it for business?',\n",
        "            'Is commercial use something you have in mind?'\n",
        "        ]"
      ]
    },
    {
      "cell_type": "code",
      "execution_count": 15,
      "metadata": {
        "id": "RgzT7YGvWdUA"
      },
      "outputs": [],
      "source": [
        "# PER DONAR MÉS OPCIONS AL CLIENT, AFEGIM MÉS CASES\n",
        "\n",
        "house_26 = {'id': 26,'type': 'rent','bedrooms': '3','bathrooms': '2','price': '1300','square_meters': '90','floor': '2','elevator': 'Yes','commercial_use': 'No','terrace': 'Yes','location': 'Barcelona'}\n",
        "house_27 = {'id': 27,'type': 'sale','bedrooms': '3','bathrooms': '1','price': '270k','square_meters': '85','floor': '3','elevator': 'No','commercial_use': 'No','terrace': 'Yes','location': \"L'Hospitalet de Llobregat\"}\n",
        "house_28 = {'id': 28,'type': 'rent','bedrooms': '2','bathrooms': '1','price': '950','square_meters': '70','floor': '4','elevator': 'Yes','commercial_use': 'No','terrace': 'No','location': \"Esplugues de Llobregat\"}\n",
        "house_29 = {'id': 29,'type': 'sale','bedrooms': '5','bathrooms': '3','price': '550k','square_meters': '160','floor': '2','elevator': 'Yes','commercial_use': 'Yes','terrace': 'Yes','location': \"Barcelona\"}\n",
        "house_30 = {'id': 30,'type': 'rent','bedrooms': '4','bathrooms': '2','price': '1800','square_meters': '110','floor': '5','elevator': 'No','commercial_use': 'No','terrace': 'Yes','location': \"L'Hospitalet de Llobregat\"}\n",
        "house_31 = {'id': 31,'type': 'sale','bedrooms': '2','bathrooms': '2','price': '210k','square_meters': '95','floor': '1','elevator': 'Yes','commercial_use': 'No','terrace': 'No','location': \"Barcelona\"}\n",
        "house_32 = {'id': 32,'type': 'rent','bedrooms': '1','bathrooms': '1','price': '750','square_meters': '45','floor': '3','elevator': 'No','commercial_use': 'No','terrace': 'Yes','location': \"Esplugues de Llobregat\"}\n",
        "house_33 = {'id': 33,'type': 'sale','bedrooms': '4','bathrooms': '3','price': '320k','square_meters': '140','floor': '4','elevator': 'Yes','commercial_use': 'Yes','terrace': 'Yes','location': \"Santa Coloma de Gramenet\"}\n",
        "house_34 = {'id': 34,'type': 'rent','bedrooms': '2','bathrooms': '1','price': '1200','square_meters': '60','floor': '6','elevator': 'Yes','commercial_use': 'No','terrace': 'Yes','location': \"Barcelona\"}\n",
        "house_35 = {'id': 35,'type': 'sale','bedrooms': '3','bathrooms': '2','price': '290k','square_meters': '100','floor': '5','elevator': 'Yes','commercial_use': 'No','terrace': 'Yes','location': \"L'Hospitalet de Llobregat\"}\n",
        "house_36 = {'id': 36,'type': 'rent','bedrooms': '3','bathrooms': '2','price': '1600','square_meters': '90','floor': '2','elevator': 'No','commercial_use': 'Yes','terrace': 'No','location': \"Barcelona\"}\n",
        "house_37 = {'id': 37,'type': 'sale','bedrooms': '5','bathrooms': '3','price': '500k','square_meters': '150','floor': '3','elevator': 'Yes','commercial_use': 'Yes','terrace': 'Yes','location': \"Esplugues de Llobregat\"}\n",
        "house_38 = {'id': 38,'type': 'rent','bedrooms': '2','bathrooms': '2','price': '1100','square_meters': '85','floor': '4','elevator': 'No','commercial_use': 'No','terrace': 'Yes','location': \"Santa Coloma de Gramenet\"}\n",
        "house_39 = {'id': 39,'type': 'sale','bedrooms': '3','bathrooms': '1','price': '260k','square_meters': '90','floor': '1','elevator': 'No','commercial_use': 'No','terrace': 'Yes','location': \"Barcelona\"}\n",
        "house_40 = {'id': 40,'type': 'rent','bedrooms': '4','bathrooms': '2','price': '2200','square_meters': '120','floor': '7','elevator': 'Yes','commercial_use': 'No','terrace': 'Yes','location': \"Esplugues de Llobregat\"}\n",
        "\n",
        "data['houses'].append(house_26)\n",
        "data['houses'].append(house_27)\n",
        "data['houses'].append(house_28)\n",
        "data['houses'].append(house_29)\n",
        "data['houses'].append(house_30)\n",
        "data['houses'].append(house_31)\n",
        "data['houses'].append(house_32)\n",
        "data['houses'].append(house_33)\n",
        "data['houses'].append(house_34)\n",
        "data['houses'].append(house_35)\n",
        "data['houses'].append(house_36)\n",
        "data['houses'].append(house_37)\n",
        "data['houses'].append(house_38)\n",
        "data['houses'].append(house_39)\n",
        "data['houses'].append(house_40)\n",
        "\n"
      ]
    },
    {
      "cell_type": "code",
      "execution_count": 16,
      "metadata": {
        "colab": {
          "base_uri": "https://localhost:8080/"
        },
        "id": "YoaBO18EA718",
        "outputId": "6c8c8c31-d1c9-4b0c-852f-70148ab4885a"
      },
      "outputs": [
        {
          "output_type": "stream",
          "name": "stdout",
          "text": [
            "Start message:  ['Welcome to the House Buying Assistant!', \"Let's start your house hunting journey!😊\", 'Hi there! Ready to find your next home?🔍', \"I'm here to help you find the perfect home for you.🏡\"]\n",
            "End message:  ['Thank you for using the House Buying Assistant. Goodbye!', 'Thank you for visiting! Good luck with your house search.👋', \"That's all from me! Feel free to come back anytime.😊\"]\n",
            "Questions:  [{'question': ['How many bedrooms do you need?', 'How many bedrooms would be ideal for you?', 'What number of bedrooms are you looking for?', 'How many bedrooms would suit your needs?'], 'type': 'numerical', 'prompt': 'Enter your choice (1 - 5 bedrooms): ', 'answer_key': 'bedrooms'}, {'question': ['How many bathrooms do you need?', 'How many bathrooms do you prefer?', 'What number of bathrooms would work for you?', 'How many bathrooms are necessary?'], 'type': 'numerical', 'prompt': 'Enter your choice (1 - 3 bathrooms): ', 'answer_key': 'bathrooms'}, {'question': ['What is your budget for the house?', 'What’s the maximum budget you have in mind?', 'How much are you willing to spend on the house?', 'What’s your ideal price range for the house?'], 'type': 'numerical', 'prompt': 'Enter your choice (1k -\\xa0999k\\xa0euros):\\xa0', 'answer_key': 'price'}, {'question': ['How many square meters do you need?', 'What’s the minimum size you’re looking for (in m^2)?', 'How big of a house do you want (in square meters)?', 'How many square meters would be ideal for you?'], 'type': 'numerical', 'prompt': 'Enter your choice (30 - 200 square meters): ', 'answer_key': 'square_meters'}, {'question': ['Which city or neighborhood would you prefer?', 'In which city or neighborhood would you like to live?', 'Where would you prefer to settle?', 'What location do you have in mind for your new home?'], 'type': 'multichoice', 'prompt': 'Enter your choice: ', 'answer_key': 'location'}, {'question': ['Do you want to buy or rent the house?', 'Are you looking to rent or buy?', 'Would you prefer to rent or purchase the property?', 'Do you plan to buy or rent your home?'], 'type': 'multichoice', 'prompt': 'Enter your choice: ', 'answer_key': 'type'}, {'question': ['In which floor do you want to live?', 'Which floor level would you like to live on?', 'Do you prefer a specific floor in the building?', 'What floor would you like your house to be on?'], 'type': 'numerical', 'prompt': 'Enter your choice (0 - 8 floors): ', 'answer_key': 'floor'}, {'question': ['Do you want a terrace?', 'Would you like a house with a terrace?', 'Are you interested in having a terrace?', 'Do you prefer your house to include a terrace?'], 'type': 'multichoice', 'prompt': 'Enter your choice: ', 'answer_key': 'terrace'}, {'question': ['Do you need an elevator?', 'Is an elevator a must for you?', 'Would you need an elevator in the building?', 'Do you prefer having access to an elevator?'], 'type': 'multichoice', 'prompt': 'Enter your choice: ', 'answer_key': 'elevator'}, {'question': ['Do you want to give it a commercial use?', 'Would you use the property for commercial purposes?', 'Are you planning to use it for business?', 'Is commercial use something you have in mind?'], 'type': 'multichoice', 'prompt': 'Enter your choice: ', 'answer_key': 'commercial_use'}]\n",
            "House:  [{'id': 1, 'type': 'rent', 'bedrooms': '3', 'bathrooms': '2', 'price': '1200', 'square_meters': '100', 'floor': '3', 'elevator': 'Yes', 'commercial_use': 'No', 'terrace': 'No', 'location': 'Santa Coloma de Gramenet'}, {'id': 2, 'type': 'sale', 'bedrooms': '4', 'bathrooms': '2', 'price': '250k', 'square_meters': '120', 'floor': '0', 'elevator': 'No', 'commercial_use': 'Yes', 'terrace': 'Yes', 'location': 'Santa Coloma de Gramenet'}, {'id': 3, 'type': 'rent', 'bedrooms': '2', 'bathrooms': '1', 'price': '800', 'square_meters': '80', 'floor': '8', 'elevator': 'Yes', 'commercial_use': 'No', 'terrace': 'No', 'location': 'Santa Coloma de Gramenet'}, {'id': 4, 'type': 'sale', 'bedrooms': '1', 'bathrooms': '1', 'price': '100k', 'square_meters': '50', 'floor': '1', 'elevator': 'No', 'commercial_use': 'No', 'terrace': 'No', 'location': 'Santa Coloma de Gramenet'}, {'id': 5, 'type': 'rent', 'bedrooms': '1', 'bathrooms': '1', 'price': '650', 'square_meters': '55', 'floor': '2', 'elevator': 'No', 'commercial_use': 'Yes', 'terrace': 'No', 'location': 'Santa Coloma de Gramenet'}, {'id': 6, 'type': 'sale', 'bedrooms': '2', 'bathrooms': '1', 'price': '120k', 'square_meters': '80', 'floor': '4', 'elevator': 'No', 'commercial_use': 'No', 'terrace': 'No', 'location': 'Santa Coloma de Gramenet'}, {'id': 7, 'type': 'rent', 'bedrooms': '5', 'bathrooms': '2', 'price': '2000', 'square_meters': '150', 'floor': '2', 'elevator': 'Yes', 'commercial_use': 'No', 'terrace': 'Yes', 'location': 'Santa Coloma de Gramenet'}, {'id': 8, 'type': 'sale', 'bedrooms': '4', 'bathrooms': '2', 'price': '400k', 'square_meters': '150', 'floor': '5', 'elevator': 'Yes', 'commercial_use': 'Yes', 'terrace': 'Yes', 'location': 'Esplugues de Llobregat'}, {'id': 9, 'type': 'rent', 'bedrooms': '1', 'bathrooms': '1', 'price': '700', 'square_meters': '55', 'floor': '3', 'elevator': 'No', 'commercial_use': 'No', 'terrace': 'Yes', 'location': 'Esplugues de Llobregat'}, {'id': 10, 'type': 'sale', 'bedrooms': '4', 'bathrooms': '3', 'price': '262k', 'square_meters': '75', 'floor': '1', 'elevator': 'Yes', 'commercial_use': 'Yes', 'terrace': 'No', 'location': 'Esplugues de Llobregat'}, {'id': 11, 'type': 'rent', 'bedrooms': '3', 'bathrooms': '1', 'price': '1100', 'square_meters': '60', 'floor': '2', 'elevator': 'No', 'commercial_use': 'No', 'terrace': 'Yes', 'location': 'Esplugues de Llobregat'}, {'id': 12, 'type': 'sale', 'bedrooms': '4', 'bathrooms': '2', 'price': '350k', 'square_meters': '100', 'floor': '6', 'elevator': 'Yes', 'commercial_use': 'Yes', 'terrace': 'Yes', 'location': 'Esplugues de Llobregat'}, {'id': 13, 'type': 'sale', 'bedrooms': '4', 'bathrooms': '2', 'price': '330k', 'square_meters': '150', 'floor': '2', 'elevator': 'Yes', 'commercial_use': 'Yes', 'terrace': 'Yes', 'location': \"L'Hospitalet de Llobregat\"}, {'id': 14, 'type': 'rent', 'bedrooms': '3', 'bathrooms': '1', 'price': '1500', 'square_meters': '100', 'floor': '3', 'elevator': 'No', 'commercial_use': 'No', 'terrace': 'No', 'location': \"L'Hospitalet de Llobregat\"}, {'id': 15, 'type': 'sale', 'bedrooms': '2', 'bathrooms': '1', 'price': '190k', 'square_meters': '75', 'floor': '0', 'elevator': 'No', 'commercial_use': 'Yes', 'terrace': 'Yes', 'location': \"L'Hospitalet de Llobregat\"}, {'id': 16, 'type': 'sale', 'bedrooms': '3', 'bathrooms': '2', 'price': '176k', 'square_meters': '80', 'floor': '1', 'elevator': 'No', 'commercial_use': 'No', 'terrace': 'No', 'location': \"L'Hospitalet de Llobregat\"}, {'id': 17, 'type': 'rent', 'bedrooms': '1', 'bathrooms': '1', 'price': '450', 'square_meters': '45', 'floor': '6', 'elevator': 'No', 'commercial_use': 'No', 'terrace': 'No', 'location': 'Barcelona'}, {'id': 18, 'type': 'rent', 'bedrooms': '1', 'bathrooms': '1', 'price': '850', 'square_meters': '50', 'floor': '4', 'elevator': 'Yes', 'commercial_use': 'No', 'terrace': 'Yes', 'location': 'Barcelona'}, {'id': 19, 'type': 'rent', 'bedrooms': '3', 'bathrooms': '1', 'price': '600', 'square_meters': '75', 'floor': '1', 'elevator': 'No', 'commercial_use': 'Yes', 'terrace': 'Yes', 'location': 'Barcelona'}, {'id': 20, 'type': 'sale', 'bedrooms': '3', 'bathrooms': '2', 'price': '360k', 'square_meters': '90', 'floor': '2', 'elevator': 'No', 'commercial_use': 'No', 'terrace': 'Yes', 'location': 'Barcelona'}, {'id': 21, 'type': 'sale', 'bedrooms': '4', 'bathrooms': '2', 'price': '480k', 'square_meters': '120', 'floor': '3', 'elevator': 'Yes', 'commercial_use': 'Yes', 'terrace': 'Yes', 'location': 'Barcelona'}, {'id': 22, 'type': 'rent', 'bedrooms': '4', 'bathrooms': '2', 'price': '3000', 'square_meters': '100', 'floor': '0', 'elevator': 'No', 'commercial_use': 'Yes', 'terrace': 'No', 'location': 'Barcelona'}, {'id': 23, 'type': 'sale', 'bedrooms': '3', 'bathrooms': '2', 'price': '285k', 'square_meters': '95', 'floor': '1', 'elevator': 'Yes', 'commercial_use': 'No', 'terrace': 'No', 'location': 'Barcelona'}, {'id': 24, 'type': 'sale', 'bedrooms': '1', 'bathrooms': '1', 'price': '200k', 'square_meters': '50', 'floor': '2', 'elevator': 'No', 'commercial_use': 'No', 'terrace': 'Yes', 'location': 'Barcelona'}, {'id': 25, 'type': 'sale', 'bedrooms': '2', 'bathrooms': '1', 'price': '180k', 'square_meters': '60', 'floor': '3', 'elevator': 'No', 'commercial_use': 'Yes', 'terrace': 'No', 'location': 'Barcelona'}, {'id': 26, 'type': 'rent', 'bedrooms': '3', 'bathrooms': '2', 'price': '1300', 'square_meters': '90', 'floor': '2', 'elevator': 'Yes', 'commercial_use': 'No', 'terrace': 'Yes', 'location': 'Barcelona'}, {'id': 27, 'type': 'sale', 'bedrooms': '3', 'bathrooms': '1', 'price': '270k', 'square_meters': '85', 'floor': '3', 'elevator': 'No', 'commercial_use': 'No', 'terrace': 'Yes', 'location': \"L'Hospitalet de Llobregat\"}, {'id': 28, 'type': 'rent', 'bedrooms': '2', 'bathrooms': '1', 'price': '950', 'square_meters': '70', 'floor': '4', 'elevator': 'Yes', 'commercial_use': 'No', 'terrace': 'No', 'location': 'Esplugues de Llobregat'}, {'id': 29, 'type': 'sale', 'bedrooms': '5', 'bathrooms': '3', 'price': '550k', 'square_meters': '160', 'floor': '2', 'elevator': 'Yes', 'commercial_use': 'Yes', 'terrace': 'Yes', 'location': 'Barcelona'}, {'id': 30, 'type': 'rent', 'bedrooms': '4', 'bathrooms': '2', 'price': '1800', 'square_meters': '110', 'floor': '5', 'elevator': 'No', 'commercial_use': 'No', 'terrace': 'Yes', 'location': \"L'Hospitalet de Llobregat\"}, {'id': 31, 'type': 'sale', 'bedrooms': '2', 'bathrooms': '2', 'price': '210k', 'square_meters': '95', 'floor': '1', 'elevator': 'Yes', 'commercial_use': 'No', 'terrace': 'No', 'location': 'Barcelona'}, {'id': 32, 'type': 'rent', 'bedrooms': '1', 'bathrooms': '1', 'price': '750', 'square_meters': '45', 'floor': '3', 'elevator': 'No', 'commercial_use': 'No', 'terrace': 'Yes', 'location': 'Esplugues de Llobregat'}, {'id': 33, 'type': 'sale', 'bedrooms': '4', 'bathrooms': '3', 'price': '320k', 'square_meters': '140', 'floor': '4', 'elevator': 'Yes', 'commercial_use': 'Yes', 'terrace': 'Yes', 'location': 'Santa Coloma de Gramenet'}, {'id': 34, 'type': 'rent', 'bedrooms': '2', 'bathrooms': '1', 'price': '1200', 'square_meters': '60', 'floor': '6', 'elevator': 'Yes', 'commercial_use': 'No', 'terrace': 'Yes', 'location': 'Barcelona'}, {'id': 35, 'type': 'sale', 'bedrooms': '3', 'bathrooms': '2', 'price': '290k', 'square_meters': '100', 'floor': '5', 'elevator': 'Yes', 'commercial_use': 'No', 'terrace': 'Yes', 'location': \"L'Hospitalet de Llobregat\"}, {'id': 36, 'type': 'rent', 'bedrooms': '3', 'bathrooms': '2', 'price': '1600', 'square_meters': '90', 'floor': '2', 'elevator': 'No', 'commercial_use': 'Yes', 'terrace': 'No', 'location': 'Barcelona'}, {'id': 37, 'type': 'sale', 'bedrooms': '5', 'bathrooms': '3', 'price': '500k', 'square_meters': '150', 'floor': '3', 'elevator': 'Yes', 'commercial_use': 'Yes', 'terrace': 'Yes', 'location': 'Esplugues de Llobregat'}, {'id': 38, 'type': 'rent', 'bedrooms': '2', 'bathrooms': '2', 'price': '1100', 'square_meters': '85', 'floor': '4', 'elevator': 'No', 'commercial_use': 'No', 'terrace': 'Yes', 'location': 'Santa Coloma de Gramenet'}, {'id': 39, 'type': 'sale', 'bedrooms': '3', 'bathrooms': '1', 'price': '260k', 'square_meters': '90', 'floor': '1', 'elevator': 'No', 'commercial_use': 'No', 'terrace': 'Yes', 'location': 'Barcelona'}, {'id': 40, 'type': 'rent', 'bedrooms': '4', 'bathrooms': '2', 'price': '2200', 'square_meters': '120', 'floor': '7', 'elevator': 'Yes', 'commercial_use': 'No', 'terrace': 'Yes', 'location': 'Esplugues de Llobregat'}]\n",
            "Confirmation messages:  ['Got it! {preference} is set to {value}.', 'You chose {preference} as {value}.', \"Thanks! You've set {preference} as {value}.\"]\n",
            "Invalid responses:  {'default': [\"I didn't quite get that, can you try again?\", \"Hmm, that doesn't seem right. Please try again.\", \"Sorry, that wasn't an option. Could you repeat?\", \"I'm not sure what you meant. Could you rephrase that?\"], 'not_a_number': [\"That doesn't look like a number. Could you enter a number?\", 'Please, I need a number here.', 'I was expecting a number. Could you type one?', 'Oops! Looks like you entered a word instead of a number. Please try again with a number.', 'I need a valid number to continue. Can you try again?'], 'out_of_range': ['That number is out of the expected range. Please enter a valid number.', 'Oops! The number is too high or too low. Try a number within the range.', 'Looks like the number is outside the limits. Please enter a number in the correct range.', \"That doesn't seem to be a valid option. Please pick a number within the allowed range.\", 'The number is not in the expected range. Could you try again with a number within the limits?']}\n"
          ]
        }
      ],
      "source": [
        "print('Start message: ', data['start_message'])\n",
        "print('End message: ', data['end_message'])\n",
        "print('Questions: ', data['questions'])\n",
        "print('House: ', data['houses'])\n",
        "print('Confirmation messages: ', data['confirmation_messages'])\n",
        "print('Invalid responses: ', data['invalid_responses'])"
      ]
    },
    {
      "cell_type": "code",
      "execution_count": 17,
      "metadata": {
        "id": "EhZr7TqGLII3"
      },
      "outputs": [],
      "source": [
        "import re\n",
        "def k_to_number(value):\n",
        "  \"\"\"\n",
        "  Funció que converteix els preus en milers (10k) a enters sense text (10000)\n",
        "  \"\"\"\n",
        "  if str(value)[-1] != 'k':\n",
        "    return int(value)\n",
        "  else:\n",
        "    return int(int(value[:-1])*1000)\n",
        "\n",
        "def extract_min_max(prompt):\n",
        "  # Trobar números amb o sense 'k' al final\n",
        "  matches = re.findall(r'\\d+k?|\\d+', prompt)\n",
        "  if len(matches) >= 2:\n",
        "    min_val = matches[0]\n",
        "    max_val = matches[1]\n",
        "    return min_val, max_val\n",
        "  return None, None"
      ]
    },
    {
      "cell_type": "code",
      "execution_count": 18,
      "metadata": {
        "id": "6RVCII50LCYL"
      },
      "outputs": [],
      "source": [
        "def print_question(prompt, possible_options = []):\n",
        "    print(f'\\n{prompt}')\n",
        "    if not len(possible_options) == 0:\n",
        "      print(\"Options:\", \", \".join(possible_options))\n",
        "\n",
        "def initialize_available_options(house_data, available_options):\n",
        "    for house in house_data['houses']:\n",
        "        for key, value in house.items():\n",
        "            available_options.setdefault(key, set()).add(value)\n",
        "\n",
        "def preprocess_answer(answer):\n",
        "    answer = nltk.word_tokenize(answer)\n",
        "    return answer\n",
        "\n",
        "def get_numerical_value(tok_answer):\n",
        "    for token in tok_answer:\n",
        "        if token.isnumeric() or token[:-1].isnumeric():\n",
        "            return token\n",
        "    return ''"
      ]
    },
    {
      "cell_type": "code",
      "execution_count": 19,
      "metadata": {
        "id": "ju5VWj_acrC4"
      },
      "outputs": [],
      "source": [
        "import random\n",
        "\n",
        "def handle_invalid_response(response_type=\"default\", data=None):\n",
        "    return random.choice(data['invalid_responses'][response_type])\n",
        "\n",
        "def get_random_start_message(data):\n",
        "    return random.choice(data['start_message'])\n",
        "\n",
        "def get_random_end_message(data):\n",
        "    return random.choice(data['end_message'])\n",
        "\n",
        "def inform_about_preference(preference, value, data):\n",
        "    responses = data['confirmation_messages']\n",
        "    return random.choice(responses).format(preference=preference, value=value)"
      ]
    },
    {
      "cell_type": "code",
      "execution_count": 20,
      "metadata": {
        "id": "lNvVRF0JLbGY"
      },
      "outputs": [],
      "source": [
        "def process_numerical_question(question):\n",
        "    print_question(random.choice(question['question']))\n",
        "    if question['answer_key'] != 'income':\n",
        "      min_value, max_value = extract_min_max(question['prompt'])\n",
        "    while True:\n",
        "      answer = input(question['prompt'])\n",
        "      if answer.lower() == \"quit\" or answer.lower() == \"any\" or answer.lower() == \"return\":\n",
        "        return answer\n",
        "      tok_answer = preprocess_answer(answer)\n",
        "      value = get_numerical_value(tok_answer)\n",
        "\n",
        "      if value == '':\n",
        "        print(handle_invalid_response(\"not_a_number\", data))\n",
        "      elif question['answer_key'] == 'income' or k_to_number(min_value) <= k_to_number(value) <= k_to_number(max_value):\n",
        "        return value\n",
        "      else:\n",
        "        print(handle_invalid_response(\"out_of_range\", data))\n",
        "\n",
        "\n",
        "def process_multichoice_question(question, options):\n",
        "    print_question(random.choice(question['question']), options)\n",
        "    while True:\n",
        "      answer = input(question['prompt'])\n",
        "      lower_options = [option.lower() for option in options]\n",
        "      if answer.lower() in lower_options or answer.lower() == \"quit\" or answer.lower() == \"any\" or answer.lower() == \"return\":\n",
        "        return answer\n",
        "      print(handle_invalid_response(\"default\", data))"
      ]
    },
    {
      "cell_type": "code",
      "execution_count": 21,
      "metadata": {
        "id": "IiQEUGnoy3zu"
      },
      "outputs": [],
      "source": [
        "def treat_income(user_preferences):\n",
        "\n",
        "    # Guardar el preu original\n",
        "    original_price = user_preferences['price']\n",
        "\n",
        "    while True:\n",
        "        answer2 = process_numerical_question({'question': ['What is your monthly income?', 'Could you tell me your monthly income?'], 'type': 'numerical', 'prompt': 'Enter your monthly income: ', 'answer_key': 'income'})\n",
        "        answer2_lower = str(answer2).lower()\n",
        "\n",
        "        # # Com que 'income' es tracta diferent, tornem a tractar els casos 'any', 'quit' i 'return'\n",
        "        if answer2_lower == \"quit\":\n",
        "            print(get_random_end_message(data))\n",
        "            sys.exit()\n",
        "\n",
        "        elif answer2_lower == \"return\":\n",
        "            print(\"Returning to the previous question...\")\n",
        "            return False  # Indica que l'usuari vol retornar\n",
        "\n",
        "        elif answer2_lower != \"any\":\n",
        "            income_value = k_to_number(answer2) * 0.35\n",
        "            print(inform_about_preference('income', answer2, data))\n",
        "            if original_price == 'any':\n",
        "                user_preferences['price'] = income_value\n",
        "            else:\n",
        "                user_preferences['price'] = min(k_to_number(original_price), income_value)\n",
        "            return True  # Indica que l'income s'ha ajustat correctament\n",
        "\n",
        "        else:\n",
        "            print(\"Please, I need you to answer this question.\")"
      ]
    },
    {
      "cell_type": "code",
      "execution_count": 22,
      "metadata": {
        "id": "5e77Y8_qy1Ow"
      },
      "outputs": [],
      "source": [
        "def dialeg(data):\n",
        "    \"\"\"\n",
        "    Funció que revisa les preferències de l'usuari i troba aquelles cases\n",
        "    que s'ajusten a les preferències o tenen unes millors característiques.\n",
        "    \"\"\"\n",
        "    user_preferences, available_options = {}, {}\n",
        "    initialize_available_options(data, available_options)\n",
        "    print(get_random_start_message(data))\n",
        "    print(data[\"system_instructions\"])\n",
        "\n",
        "    rent = False\n",
        "    i = 0\n",
        "    while i < len(data['questions']):\n",
        "\n",
        "        question = data['questions'][i]\n",
        "        answer_key = question['answer_key']\n",
        "        possible_options = list(available_options.get(answer_key, []))\n",
        "\n",
        "        if question['type'] == 'numerical':\n",
        "            answer = process_numerical_question(question)\n",
        "        else:\n",
        "            answer = process_multichoice_question(question, possible_options)\n",
        "\n",
        "        answer_lower = str(answer).lower()\n",
        "\n",
        "        if answer_lower == \"quit\":\n",
        "            print(get_random_end_message(data))\n",
        "            sys.exit()\n",
        "\n",
        "        elif answer_lower == \"return\":\n",
        "            if answer_key == 'floor' and rent:\n",
        "                print(\"Returning to the previous question...\")\n",
        "                success = treat_income(user_preferences)\n",
        "                if not success:\n",
        "                    i -= 1  # Anem a la pregunta anterior\n",
        "                continue\n",
        "            elif i > 0:\n",
        "                print(\"Returning to the previous question...\")\n",
        "                i -= 1\n",
        "                continue\n",
        "            else:\n",
        "                print(\"There is no previous question.\")\n",
        "                continue\n",
        "\n",
        "        else:\n",
        "          print(inform_about_preference(answer_key, answer, data))\n",
        "\n",
        "        if answer_key == 'type':\n",
        "            if answer_lower in ['rent', 'any']:\n",
        "                rent = True\n",
        "                success = treat_income(user_preferences)\n",
        "                if not success:\n",
        "                    continue\n",
        "            else:\n",
        "                rent = False\n",
        "\n",
        "        user_preferences[answer_key] = answer\n",
        "        i += 1\n",
        "\n",
        "    return user_preferences"
      ]
    },
    {
      "cell_type": "code",
      "execution_count": 23,
      "metadata": {
        "id": "HKDPMF_JLvMO"
      },
      "outputs": [],
      "source": [
        "def find_suitable_houses(data, user_preferences):\n",
        "  \"\"\"\n",
        "  Funció que revisa les preferències de l'usuari i troba aquelles cases\n",
        "  que s'ajusten a les preferències o tenen unes millors característiques.\n",
        "  \"\"\"\n",
        "  suitable_houses = []\n",
        "  for house in data['houses']:\n",
        "    is_suitable = True\n",
        "    for key in user_preferences:\n",
        "      if user_preferences[key] != \"any\":\n",
        "          if key in ['bedrooms', 'bathrooms', 'square_meters', 'floor'] and (int(house[key]) < int(user_preferences[key])):\n",
        "            is_suitable = False\n",
        "            break\n",
        "          elif key == 'price' and k_to_number(house[key]) > k_to_number(user_preferences[key]):\n",
        "            is_suitable = False\n",
        "            break\n",
        "          elif key in ['elevator', 'terrace', 'commercial_use'] and house[key].lower() == 'no' and user_preferences[key].lower() == 'yes':\n",
        "            is_suitable = False\n",
        "            break\n",
        "          elif key in ['location', 'type'] and house[key].lower() != user_preferences[key].lower():\n",
        "            is_suitable = False\n",
        "            break\n",
        "    if is_suitable:\n",
        "      suitable_houses.append(house)\n",
        "  return suitable_houses"
      ]
    },
    {
      "cell_type": "code",
      "execution_count": 24,
      "metadata": {
        "colab": {
          "base_uri": "https://localhost:8080/"
        },
        "id": "vqhWMobaLxrV",
        "outputId": "0f5875fc-b7da-4203-c341-a69f723fa56e"
      },
      "outputs": [
        {
          "output_type": "stream",
          "name": "stdout",
          "text": [
            "Hi there! Ready to find your next home?🔍\n",
            "\n",
            "While you're answering the questions, feel free to use these options anytime:\n",
            "    - QUIT: Just type 'quit' if you want to end the session. I'll stop right away.\n",
            "    - ANY: If you type 'any', I'll understand that you don't want to pick any of the options and we’ll move on to the next question.\n",
            "    - RETURN: Want to change your last answer? Type 'return' and I'll take you back to the previous question so you can fix it.\n",
            "\n",
            "What number of bedrooms are you looking for?\n",
            "Enter your choice (1 - 5 bedrooms): three\n",
            "Oops! Looks like you entered a word instead of a number. Please try again with a number.\n",
            "Enter your choice (1 - 5 bedrooms): 3\n",
            "Got it! bedrooms is set to 3.\n",
            "\n",
            "What number of bathrooms would work for you?\n",
            "Enter your choice (1 - 3 bathrooms): return\n",
            "Returning to the previous question...\n",
            "\n",
            "What number of bedrooms are you looking for?\n",
            "Enter your choice (1 - 5 bedrooms): 3\n",
            "You chose bedrooms as 3.\n",
            "\n",
            "How many bathrooms do you prefer?\n",
            "Enter your choice (1 - 3 bathrooms): any\n",
            "You chose bathrooms as any.\n",
            "\n",
            "What’s your ideal price range for the house?\n",
            "Enter your choice (1k - 999k euros): any\n",
            "You chose price as any.\n",
            "\n",
            "How many square meters do you need?\n",
            "Enter your choice (30 - 200 square meters): any\n",
            "Thanks! You've set square_meters as any.\n",
            "\n",
            "Where would you prefer to settle?\n",
            "Options: Esplugues de Llobregat, Barcelona, L'Hospitalet de Llobregat, Santa Coloma de Gramenet\n",
            "Enter your choice: any\n",
            "Thanks! You've set location as any.\n",
            "\n",
            "Would you prefer to rent or purchase the property?\n",
            "Options: sale, rent\n",
            "Enter your choice: any\n",
            "Got it! type is set to any.\n",
            "\n",
            "Could you tell me your monthly income?\n",
            "Enter your monthly income: any\n",
            "Please, I need you to answer this question.\n",
            "\n",
            "Could you tell me your monthly income?\n",
            "Enter your monthly income: 1000000\n",
            "Got it! income is set to 1000000.\n",
            "\n",
            "Which floor level would you like to live on?\n",
            "Enter your choice (0 - 8 floors): any\n",
            "Thanks! You've set floor as any.\n",
            "\n",
            "Are you interested in having a terrace?\n",
            "Options: No, Yes\n",
            "Enter your choice: any\n",
            "You chose terrace as any.\n",
            "\n",
            "Would you need an elevator in the building?\n",
            "Options: No, Yes\n",
            "Enter your choice: any\n",
            "You chose elevator as any.\n",
            "\n",
            "Are you planning to use it for business?\n",
            "Options: No, Yes\n",
            "Enter your choice: any\n",
            "You chose commercial_use as any.\n",
            "\n",
            "Based on your preferences, the most suitable houses are:\n",
            "House ID: 1\n",
            "Type: rent\n",
            "Bedrooms: 3\n",
            "Bathrooms: 2\n",
            "Price: 1200 euros\n",
            "Square Meters: 100 m^2\n",
            "Floor: 3\n",
            "Elevator: Yes\n",
            "Commercial use: No\n",
            "Terrace: No\n",
            "Location: Santa Coloma de Gramenet\n",
            "\n",
            "House ID: 2\n",
            "Type: sale\n",
            "Bedrooms: 4\n",
            "Bathrooms: 2\n",
            "Price: 250k euros\n",
            "Square Meters: 120 m^2\n",
            "Floor: 0\n",
            "Elevator: No\n",
            "Commercial use: Yes\n",
            "Terrace: Yes\n",
            "Location: Santa Coloma de Gramenet\n",
            "\n",
            "House ID: 7\n",
            "Type: rent\n",
            "Bedrooms: 5\n",
            "Bathrooms: 2\n",
            "Price: 2000 euros\n",
            "Square Meters: 150 m^2\n",
            "Floor: 2\n",
            "Elevator: Yes\n",
            "Commercial use: No\n",
            "Terrace: Yes\n",
            "Location: Santa Coloma de Gramenet\n",
            "\n",
            "House ID: 10\n",
            "Type: sale\n",
            "Bedrooms: 4\n",
            "Bathrooms: 3\n",
            "Price: 262k euros\n",
            "Square Meters: 75 m^2\n",
            "Floor: 1\n",
            "Elevator: Yes\n",
            "Commercial use: Yes\n",
            "Terrace: No\n",
            "Location: Esplugues de Llobregat\n",
            "\n",
            "House ID: 11\n",
            "Type: rent\n",
            "Bedrooms: 3\n",
            "Bathrooms: 1\n",
            "Price: 1100 euros\n",
            "Square Meters: 60 m^2\n",
            "Floor: 2\n",
            "Elevator: No\n",
            "Commercial use: No\n",
            "Terrace: Yes\n",
            "Location: Esplugues de Llobregat\n",
            "\n",
            "House ID: 12\n",
            "Type: sale\n",
            "Bedrooms: 4\n",
            "Bathrooms: 2\n",
            "Price: 350k euros\n",
            "Square Meters: 100 m^2\n",
            "Floor: 6\n",
            "Elevator: Yes\n",
            "Commercial use: Yes\n",
            "Terrace: Yes\n",
            "Location: Esplugues de Llobregat\n",
            "\n",
            "House ID: 13\n",
            "Type: sale\n",
            "Bedrooms: 4\n",
            "Bathrooms: 2\n",
            "Price: 330k euros\n",
            "Square Meters: 150 m^2\n",
            "Floor: 2\n",
            "Elevator: Yes\n",
            "Commercial use: Yes\n",
            "Terrace: Yes\n",
            "Location: L'Hospitalet de Llobregat\n",
            "\n",
            "House ID: 14\n",
            "Type: rent\n",
            "Bedrooms: 3\n",
            "Bathrooms: 1\n",
            "Price: 1500 euros\n",
            "Square Meters: 100 m^2\n",
            "Floor: 3\n",
            "Elevator: No\n",
            "Commercial use: No\n",
            "Terrace: No\n",
            "Location: L'Hospitalet de Llobregat\n",
            "\n",
            "House ID: 16\n",
            "Type: sale\n",
            "Bedrooms: 3\n",
            "Bathrooms: 2\n",
            "Price: 176k euros\n",
            "Square Meters: 80 m^2\n",
            "Floor: 1\n",
            "Elevator: No\n",
            "Commercial use: No\n",
            "Terrace: No\n",
            "Location: L'Hospitalet de Llobregat\n",
            "\n",
            "House ID: 19\n",
            "Type: rent\n",
            "Bedrooms: 3\n",
            "Bathrooms: 1\n",
            "Price: 600 euros\n",
            "Square Meters: 75 m^2\n",
            "Floor: 1\n",
            "Elevator: No\n",
            "Commercial use: Yes\n",
            "Terrace: Yes\n",
            "Location: Barcelona\n",
            "\n",
            "House ID: 22\n",
            "Type: rent\n",
            "Bedrooms: 4\n",
            "Bathrooms: 2\n",
            "Price: 3000 euros\n",
            "Square Meters: 100 m^2\n",
            "Floor: 0\n",
            "Elevator: No\n",
            "Commercial use: Yes\n",
            "Terrace: No\n",
            "Location: Barcelona\n",
            "\n",
            "House ID: 23\n",
            "Type: sale\n",
            "Bedrooms: 3\n",
            "Bathrooms: 2\n",
            "Price: 285k euros\n",
            "Square Meters: 95 m^2\n",
            "Floor: 1\n",
            "Elevator: Yes\n",
            "Commercial use: No\n",
            "Terrace: No\n",
            "Location: Barcelona\n",
            "\n",
            "House ID: 26\n",
            "Type: rent\n",
            "Bedrooms: 3\n",
            "Bathrooms: 2\n",
            "Price: 1300 euros\n",
            "Square Meters: 90 m^2\n",
            "Floor: 2\n",
            "Elevator: Yes\n",
            "Commercial use: No\n",
            "Terrace: Yes\n",
            "Location: Barcelona\n",
            "\n",
            "House ID: 27\n",
            "Type: sale\n",
            "Bedrooms: 3\n",
            "Bathrooms: 1\n",
            "Price: 270k euros\n",
            "Square Meters: 85 m^2\n",
            "Floor: 3\n",
            "Elevator: No\n",
            "Commercial use: No\n",
            "Terrace: Yes\n",
            "Location: L'Hospitalet de Llobregat\n",
            "\n",
            "House ID: 30\n",
            "Type: rent\n",
            "Bedrooms: 4\n",
            "Bathrooms: 2\n",
            "Price: 1800 euros\n",
            "Square Meters: 110 m^2\n",
            "Floor: 5\n",
            "Elevator: No\n",
            "Commercial use: No\n",
            "Terrace: Yes\n",
            "Location: L'Hospitalet de Llobregat\n",
            "\n",
            "House ID: 33\n",
            "Type: sale\n",
            "Bedrooms: 4\n",
            "Bathrooms: 3\n",
            "Price: 320k euros\n",
            "Square Meters: 140 m^2\n",
            "Floor: 4\n",
            "Elevator: Yes\n",
            "Commercial use: Yes\n",
            "Terrace: Yes\n",
            "Location: Santa Coloma de Gramenet\n",
            "\n",
            "House ID: 35\n",
            "Type: sale\n",
            "Bedrooms: 3\n",
            "Bathrooms: 2\n",
            "Price: 290k euros\n",
            "Square Meters: 100 m^2\n",
            "Floor: 5\n",
            "Elevator: Yes\n",
            "Commercial use: No\n",
            "Terrace: Yes\n",
            "Location: L'Hospitalet de Llobregat\n",
            "\n",
            "House ID: 36\n",
            "Type: rent\n",
            "Bedrooms: 3\n",
            "Bathrooms: 2\n",
            "Price: 1600 euros\n",
            "Square Meters: 90 m^2\n",
            "Floor: 2\n",
            "Elevator: No\n",
            "Commercial use: Yes\n",
            "Terrace: No\n",
            "Location: Barcelona\n",
            "\n",
            "House ID: 39\n",
            "Type: sale\n",
            "Bedrooms: 3\n",
            "Bathrooms: 1\n",
            "Price: 260k euros\n",
            "Square Meters: 90 m^2\n",
            "Floor: 1\n",
            "Elevator: No\n",
            "Commercial use: No\n",
            "Terrace: Yes\n",
            "Location: Barcelona\n",
            "\n",
            "House ID: 40\n",
            "Type: rent\n",
            "Bedrooms: 4\n",
            "Bathrooms: 2\n",
            "Price: 2200 euros\n",
            "Square Meters: 120 m^2\n",
            "Floor: 7\n",
            "Elevator: Yes\n",
            "Commercial use: No\n",
            "Terrace: Yes\n",
            "Location: Esplugues de Llobregat\n",
            "\n"
          ]
        }
      ],
      "source": [
        "def print_suitable_houses(suitable_houses):\n",
        "  if suitable_houses:\n",
        "    print(\"\\nBased on your preferences, the most suitable houses are:\")\n",
        "    for house in suitable_houses:\n",
        "      print(f\"House ID: {house['id']}\")\n",
        "      print(f\"Type: {house['type']}\")\n",
        "      print(\"Bedrooms:\", house['bedrooms'])\n",
        "      print(\"Bathrooms:\", house['bathrooms'])\n",
        "      print(\"Price:\", house['price'], \"euros\")\n",
        "      print(\"Square Meters:\", house['square_meters'], \"m^2\")\n",
        "      print(\"Floor:\", house['floor'])\n",
        "      print(\"Elevator:\", house['elevator'])\n",
        "      print(\"Commercial use:\", house['commercial_use'])\n",
        "      print(\"Terrace:\", house['terrace'])\n",
        "      print(\"Location:\", house['location'])\n",
        "      print()\n",
        "  else:\n",
        "    print(\"\\nSorry, no suitable houses match your preferences. \\n\")\n",
        "\n",
        "user_preferences = dialeg(data)\n",
        "suitable_houses = find_suitable_houses(data, user_preferences)\n",
        "print_suitable_houses(suitable_houses)"
      ]
    },
    {
      "cell_type": "markdown",
      "metadata": {
        "id": "fXFq7TmHoN-r"
      },
      "source": [
        "---"
      ]
    }
  ],
  "metadata": {
    "colab": {
      "provenance": []
    },
    "kernelspec": {
      "display_name": "Python 3",
      "name": "python3"
    },
    "language_info": {
      "name": "python"
    }
  },
  "nbformat": 4,
  "nbformat_minor": 0
}